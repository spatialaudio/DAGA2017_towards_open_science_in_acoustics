{
 "cells": [
  {
   "cell_type": "markdown",
   "metadata": {
    "slideshow": {
     "slide_type": "slide"
    }
   },
   "source": [
    "# Towards Open Science in Acoustics: Foundations and Best Practices\n",
    "\n",
    "### Sascha Spors, Matthias Geier, Hagen Wierstorf\n",
    "\n",
    "* Institute of Communications Engineering, University of Rostock\n",
    "* Filmuniversität Babelsberg *KONRAD WOLF*\n",
    "\n",
    "Sascha.Spors@uni-rostock.de\n",
    "\n",
    "7.3.2017"
   ]
  },
  {
   "cell_type": "markdown",
   "metadata": {
    "slideshow": {
     "slide_type": "slide"
    }
   },
   "source": [
    "# Reproducibility - Who Cares? \n",
    "\n",
    "* myself\n",
    "* my future self\n",
    "* my boss\n",
    "* my funding organization\n",
    "* my colleagues\n",
    "* other researchers\n",
    "* all people in the world\n",
    "* science itself"
   ]
  },
  {
   "cell_type": "markdown",
   "metadata": {
    "slideshow": {
     "slide_type": "slide"
    }
   },
   "source": [
    "# Reproducibility of a Listening Experiment\n",
    "\n",
    "1. Thesis\n",
    "2. Design of the Listening Experiment\n",
    "3. Generation of Stimuli\n",
    "4. Graphical User Interface\n",
    "5. Ratings\n",
    "6. Statistical Analysis\n",
    "7. Publication"
   ]
  },
  {
   "cell_type": "markdown",
   "metadata": {
    "slideshow": {
     "slide_type": "slide"
    }
   },
   "source": [
    "# The Scientific Method\n",
    "\n",
    "**Branches of the scientific method** [Donoho, 2009]\n",
    "1. Deductive $\\rightarrow$ mathematics, formal logic\n",
    "\n",
    "2. Empirical $\\rightarrow$ statistical analysis of controlled experiments\n",
    "\n",
    "3. Computational\n",
    "    1. large-scale simulations\n",
    "    2. data-driven computational science\n",
    "\n",
    "\n",
    "\n",
    "**Classification of Reproducibility** [Stodden, 2014]\n",
    "* empirical reproducibility\n",
    "* computational reproducibility\n",
    "* statistical reproducibility"
   ]
  },
  {
   "cell_type": "markdown",
   "metadata": {
    "slideshow": {
     "slide_type": "slide"
    }
   },
   "source": [
    "# Open Science\n",
    "\n",
    "* Open Methodology\n",
    "* Open Data\n",
    "* Open Source\n",
    "* Open Access\n",
    "* Open Educational Resources\n",
    "* Open Peer Review\n",
    "\n",
    "according to [http://openscienceasap.org/open-science/]"
   ]
  },
  {
   "cell_type": "markdown",
   "metadata": {
    "slideshow": {
     "slide_type": "slide"
    }
   },
   "source": [
    "# Reproducibility of a Listening Experiment - Revisited\n",
    "\n",
    "1. -> Open Access\n",
    "2. -> Open Methodology\n",
    "3. -> Open Data, Open Source\n",
    "4. -> Open Source\n",
    "5. -> Open Data\n",
    "6. -> Open Data, Open Source\n",
    "7. -> Open Access"
   ]
  },
  {
   "cell_type": "markdown",
   "metadata": {
    "slideshow": {
     "slide_type": "slide"
    }
   },
   "source": [
    "# Incentives and Barriers\n",
    "\n",
    "### Selected Results from a Survey of the Machine Learning Community\n",
    "\n",
    "**Barriers (Data / Code)**\n",
    "* Time to document and clean up (54% / 77%)\n",
    "* Dealing with questions from users (34% / 52%)\n",
    "* Not receiving attribution (44% / 42%)\n",
    "* Possibility of patents (-- / 40%)\n",
    "* Legal barriers (e.g. copyright) (34% / 41%)\n",
    "\n",
    "**Incentives (Data / Code)**\n",
    "* Encourage scientific advancement (81% / 91%)\n",
    "* Encourage sharing in others (90% / 79%)\n",
    "* Be a good community member (86% / 79%)\n",
    "* Set a standard in the field (82% / 76%)\n",
    "* Improve the calibre of research (85% / 74%)\n",
    "\n",
    "Results from[Stodden, 2010], N=134"
   ]
  },
  {
   "cell_type": "markdown",
   "metadata": {
    "slideshow": {
     "slide_type": "slide"
    }
   },
   "source": [
    "# Management of Research Data\n",
    "\n",
    "* a systematic management of research data is a prerequisite for open and reproducible science\n",
    "* becoming mandatory in funding schemes (DFG, H2020, NSF, ...)\n",
    "\n",
    "**Best Practices** [DFG, HRK, Stodden, H2020]\n",
    "* develop a comprehensive data management plan\n",
    "* use workflow tracking in the research process\n",
    "* make data findable, accessible, interoperable and reusable (FAIR)\n",
    "* apply open licensing models\n",
    "* offer training and qualification"
   ]
  },
  {
   "cell_type": "markdown",
   "metadata": {
    "slideshow": {
     "slide_type": "slide"
    }
   },
   "source": [
    "# Services for Open Science\n",
    "\n",
    "Generic repositories including version tracking\n",
    "* GitHub\n",
    "* Bitbuckes\n",
    "\n",
    "Repositories for Research Data\n",
    "* Zenodo\n",
    "* Research Compendia\n",
    "* Reproducible Research\n",
    "* ResearchGate\n",
    "\n",
    "Virtual Research Environments\n",
    "* Open Science Framework\n",
    "\n",
    "Journals\n",
    "* Journal of Open Research Software"
   ]
  },
  {
   "cell_type": "markdown",
   "metadata": {
    "slideshow": {
     "slide_type": "slide"
    }
   },
   "source": [
    "# Copyright and Licenses\n",
    "\n",
    "* unclear situation when publishing content without explicit license\n",
    "* license should be as open as possible in order to promote re-use\n",
    "* legal implications are complex and hard to oversee\n",
    "\n",
    "**Available Licensing Frameworks**\n",
    "* Software: GNU Public License, BSD, MIT, ...\n",
    "* Content: Creative Commons, ...\n",
    "\n",
    "**Recommendations**\n",
    "* Reproducible Research Standard (RRS) [Stodden, 2009]\n",
    "* ..."
   ]
  },
  {
   "cell_type": "markdown",
   "metadata": {
    "slideshow": {
     "slide_type": "slide"
    }
   },
   "source": [
    "# Personal Experience\n",
    "\n",
    "* public release of the SoundScape Renderer (SSR) in 2010\n",
    "* toolboxes, datasets, open educational resources (numbers + selected examples), Open Science in Two!Ears\n",
    "* internal data management: Redmine, svn, git\n",
    "* public releases: github, zenodo, wordpress\n",
    "\n",
    "**Benefits**\n",
    "* documentation/clean up/discussions for public release\n",
    "* bug reports\n",
    "* positive community feedback\n",
    "* potentially more citations []\n",
    "\n",
    "**Challenges**\n",
    "* initial effort (training, ...)\n",
    "* missing versioning tool/platform for data bases"
   ]
  },
  {
   "cell_type": "markdown",
   "metadata": {
    "slideshow": {
     "slide_type": "slide"
    }
   },
   "source": [
    "# Conclusions\n",
    "\n",
    "* reproducibility of results is essential for the scientific method\n",
    "* Open Science does not ensure reproducibility by itself\n",
    "* scientific innovation vs. evaluation measures\n",
    "* global trend towards sharing\n",
    "* data repository for acoustics/audio $\\rightarrow$ talk by Stefan Weinzierl"
   ]
  },
  {
   "cell_type": "markdown",
   "metadata": {
    "slideshow": {
     "slide_type": "slide"
    }
   },
   "source": [
    "# References\n",
    "\n",
    "* [Stodden, 2009] Vitoria Stodden, The Legal Framework for Reproducible Scientific Research, Computing in Science & Engineering, January/February 2009.\n",
    "* [Stodden, 2014] Victoria Stodden, Resolving Reproducibility in Computational Science: Tools, Policy, and Culture, 2014.\n",
    "* [Donoho, 2009] David Donoho, Arian Maleki, Inam Rahman, Morteza Shahram, Victoria Stodden, 15 Years of Reproducible Research in Computational Harmonic Analysis, Computing in Science and Engineering, 11(1), 2009."
   ]
  }
 ],
 "metadata": {
  "celltoolbar": "Slideshow",
  "kernelspec": {
   "display_name": "Python 3",
   "language": "python",
   "name": "python3"
  },
  "language_info": {
   "codemirror_mode": {
    "name": "ipython",
    "version": 3
   },
   "file_extension": ".py",
   "mimetype": "text/x-python",
   "name": "python",
   "nbconvert_exporter": "python",
   "pygments_lexer": "ipython3",
   "version": "3.5.2"
  }
 },
 "nbformat": 4,
 "nbformat_minor": 1
}
