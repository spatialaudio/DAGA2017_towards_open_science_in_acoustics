{
 "cells": [
  {
   "cell_type": "markdown",
   "metadata": {
    "slideshow": {
     "slide_type": "slide"
    }
   },
   "source": [
    "# Towards Open Science in Acoustics: Foundations and Best Practices\n",
    "\n",
    "### Sascha Spors, Matthias Geier, Hagen Wierstorf\n",
    "\n",
    "* Institute of Communications Engineering, University of Rostock\n",
    "* Filmuniversität Babelsberg *KONRAD WOLF*\n",
    "\n",
    "Sascha.Spors@uni-rostock.de\n",
    "\n",
    "7.3.2017"
   ]
  },
  {
   "cell_type": "markdown",
   "metadata": {
    "slideshow": {
     "slide_type": "slide"
    }
   },
   "source": [
    "# Reproducibility - Who Cares? \n",
    "\n",
    "* myself\n",
    "* my future self\n",
    "* my boss\n",
    "* my funding organization\n",
    "* my colleagues\n",
    "* other researchers\n",
    "* all people in the world\n",
    "* science itself"
   ]
  },
  {
   "cell_type": "markdown",
   "metadata": {
    "slideshow": {
     "slide_type": "slide"
    }
   },
   "source": [
    "# Reproducibility of a Listening Experiment\n",
    "\n",
    "1. Problem Statement, Thesis\n",
    "2. Design of the Listening Experiment\n",
    "3. Generation of Stimuli\n",
    "4. Graphical User Interface\n",
    "5. Ratings\n",
    "6. Statistical Analysis\n",
    "7. Publication"
   ]
  },
  {
   "cell_type": "markdown",
   "metadata": {
    "slideshow": {
     "slide_type": "slide"
    }
   },
   "source": [
    "# Classification of Reproducibility \n",
    "[Stodden, 2013]\n",
    "\n",
    "1. Empirical\n",
    "\n",
    "2. Computational\n",
    "    1. Deductive: mathematics, formal logic\n",
    "    2. Empirical: statistical analysis of controlled experiments\n",
    "    3. Computational: large-scale simulation\n",
    "    4. Computational: data-driven computational science\n",
    "    \n",
    "3. Statistical"
   ]
  },
  {
   "cell_type": "markdown",
   "metadata": {
    "slideshow": {
     "slide_type": "slide"
    }
   },
   "source": [
    "# Open Science\n",
    "\n",
    "* Open Methodology\n",
    "* Open Data\n",
    "* Open Source\n",
    "* Open Access\n",
    "* Open Educational Resources\n",
    "* Open Peer Review\n",
    "\n",
    "according to [http://openscienceasap.org/open-science/]"
   ]
  },
  {
   "cell_type": "markdown",
   "metadata": {
    "slideshow": {
     "slide_type": "slide"
    }
   },
   "source": [
    "# Reproducibility of a Listening Experiment - Revisited\n",
    "\n",
    "1. -> Open Access\n",
    "2. -> Open Methodology\n",
    "3. -> Open Data, Open Source\n",
    "4. -> Open Source\n",
    "5. -> Open Data\n",
    "6. -> Open Data, Open Source\n",
    "7. -> Open Access"
   ]
  },
  {
   "cell_type": "markdown",
   "metadata": {
    "slideshow": {
     "slide_type": "slide"
    }
   },
   "source": [
    "# Incentives and Barriers\n",
    "\n",
    "### Selected Results from a Survey of the Machine Learning Community\n",
    "\n",
    "**Barriers (Data / Code)**\n",
    "* Time to document and clean up (54% / 77%)\n",
    "* Dealing with questions from users (34% / 52%)\n",
    "* Not receiving attribution (44% / 42%)\n",
    "* Possibility of patents (-- / 40%)\n",
    "* Legal barriers (e.g. copyright) (34% / 41%)\n",
    "\n",
    "**Incentives (Data / Code)**\n",
    "* Encourage scientific advancement (81% / 91%)\n",
    "* Encourage sharing in others (90% / 79%)\n",
    "* Be a good community member (86% / 79%)\n",
    "* Set a standard in the field (82% / 76%)\n",
    "* Improve the calibre of research (85% / 74%)\n",
    "\n",
    "[Stodden, 2010], N=134"
   ]
  },
  {
   "cell_type": "markdown",
   "metadata": {
    "slideshow": {
     "slide_type": "slide"
    }
   },
   "source": [
    "# Management of Research Data\n",
    "\n",
    "* a systematic management of research data is a prerequisite for open and reproducible science\n",
    "* becoming mandatory (DFG, H2020, NSF, ...)\n",
    "\n",
    "**Best Practices** [DFG, HRK, Stodden, H2020]\n",
    "* develop a comprehensive data management plan\n",
    "* use workflow tracking in the research process\n",
    "* make data findable, accessible, interoperable and reusable (FAIR)\n",
    "* apply open licensing models\n",
    "* offer training and qualification"
   ]
  },
  {
   "cell_type": "markdown",
   "metadata": {
    "slideshow": {
     "slide_type": "slide"
    }
   },
   "source": [
    "# Services for Open Science\n",
    "\n",
    "A wide variety of public services are ready to use..."
   ]
  },
  {
   "cell_type": "markdown",
   "metadata": {
    "slideshow": {
     "slide_type": "slide"
    }
   },
   "source": [
    "# Copyright and Licenses\n",
    "\n",
    "* unclear situation when publishing content without explicit license\n",
    "* license should be as open as possible in order to promote re-use\n",
    "* legal implications are complex and hard to oversee\n",
    "\n",
    "**Available Licensing Frameworks**\n",
    "* Software: GNU, BSD, MIT, ...\n",
    "* Content: Creative Commons, ...\n",
    "\n",
    "**Recommendations**\n",
    "* Reproducible Research Standard (RRS) [Stodden, 2009]\n",
    "* ..."
   ]
  },
  {
   "cell_type": "markdown",
   "metadata": {
    "slideshow": {
     "slide_type": "slide"
    }
   },
   "source": [
    "# Personal Experience\n",
    "\n",
    "* public release of the SoundScape Renderer (SSR) in 20xx\n",
    "* toolboxes, datasets, open educational resources (numbers + selected examples), Open Science in Two!Ears\n",
    "* data management\n",
    "    * internal: Redmine, svn, git\n",
    "    * public: github, zenodo\n",
    "\n",
    "**Benefits**\n",
    "* documentation/clean up/discussions for public release\n",
    "* bug reports\n",
    "* positive community feedback\n",
    "* more citations []\n",
    "\n",
    "**Drawbacks**\n",
    "* initial effort (training, ...)\n",
    "* missing versioning tool/platform for data bases"
   ]
  },
  {
   "cell_type": "markdown",
   "metadata": {
    "slideshow": {
     "slide_type": "slide"
    }
   },
   "source": [
    "# Conclusions\n",
    "\n",
    "* reproducibility of results is essential for the scientific method\n",
    "* Open Science does not ensure reproducibility by itself\n",
    "* scientific innovation vs. evaluation procedures"
   ]
  }
 ],
 "metadata": {
  "celltoolbar": "Slideshow",
  "kernelspec": {
   "display_name": "Python 3",
   "language": "python",
   "name": "python3"
  },
  "language_info": {
   "codemirror_mode": {
    "name": "ipython",
    "version": 3
   },
   "file_extension": ".py",
   "mimetype": "text/x-python",
   "name": "python",
   "nbconvert_exporter": "python",
   "pygments_lexer": "ipython3",
   "version": "3.5.2"
  }
 },
 "nbformat": 4,
 "nbformat_minor": 1
}
