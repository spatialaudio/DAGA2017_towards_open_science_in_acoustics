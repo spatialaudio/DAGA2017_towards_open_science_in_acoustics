{
 "cells": [
  {
   "cell_type": "markdown",
   "metadata": {
    "slideshow": {
     "slide_type": "slide"
    }
   },
   "source": [
    "# Towards Open Science in Acoustics: Foundations and Best Practices\n",
    "\n",
    "### Sascha Spors, Matthias Geier, Hagen Wierstorf\n",
    "\n",
    "* Institute of Communications Engineering, University of Rostock\n",
    "* Filmuniversität Babelsberg *KONRAD WOLF*\n",
    "\n",
    "Sascha.Spors@uni-rostock.de\n",
    "\n",
    "7.3.2017"
   ]
  },
  {
   "cell_type": "markdown",
   "metadata": {
    "slideshow": {
     "slide_type": "slide"
    }
   },
   "source": [
    "# Who should benefit from my research? \n",
    "\n",
    "* myself\n",
    "* my future self\n",
    "* my boss\n",
    "* my colleagues\n",
    "* other researchers\n",
    "* all people in the world\n",
    "* science itself"
   ]
  },
  {
   "cell_type": "markdown",
   "metadata": {
    "slideshow": {
     "slide_type": "slide"
    }
   },
   "source": [
    "# Reproducibility of a Listening Experiment\n",
    "\n",
    "1. Idea\n",
    "2. Design of the Listening Experiment\n",
    "    * hypothesis\n",
    "    * design\n",
    "3. Implementation & Computation\n",
    "    * mathematical derivations\n",
    "    * implementation of signal processing\n",
    "    * implementation of graphical user interface & control logic\n",
    "    * numerical simulations\n",
    "    * generation of stimuli\n",
    "4. Experiment\n",
    "5. Analysis\n",
    "    * anonymization of data\n",
    "    * outlier removal\n",
    "    * statistical analysis\n",
    "6. Manuscript\n",
    "    * text, references\n",
    "    * visualization of results (plots)\n",
    "7. Peer Review\n",
    "    * ratings, comments\n",
    "    * revision of manuscript\n",
    "8. Publication\n",
    "9. Aftermath\n",
    "    * reproduction by third parties\n",
    "    * post publication review\n",
    "    * errata, code revision"
   ]
  },
  {
   "cell_type": "markdown",
   "metadata": {
    "slideshow": {
     "slide_type": "slide"
    }
   },
   "source": [
    "# The Scientific Method\n",
    "\n",
    "**Branches of the scientific method** [Donoho, 2009]\n",
    "1. Deductive $\\rightarrow$ mathematics, formal logic\n",
    "\n",
    "2. Empirical $\\rightarrow$ statistical analysis of controlled experiments\n",
    "\n",
    "3. Computational\n",
    "    1. large-scale simulations\n",
    "    2. data-driven computational science\n",
    "\n",
    "\n",
    "\n",
    "**Classification of Reproducibility** [Stodden, 2014]\n",
    "* empirical reproducibility\n",
    "* computational reproducibility\n",
    "* statistical reproducibility"
   ]
  },
  {
   "cell_type": "markdown",
   "metadata": {
    "slideshow": {
     "slide_type": "slide"
    }
   },
   "source": [
    "# Open Science\n",
    "\n",
    "* Open Methodology\n",
    "* Open Data\n",
    "* Open Source\n",
    "* Open Access\n",
    "* Open Educational Resources\n",
    "* Open Peer Review\n",
    "\n",
    "according to [http://openscienceasap.org/open-science/]"
   ]
  },
  {
   "cell_type": "markdown",
   "metadata": {
    "slideshow": {
     "slide_type": "slide"
    }
   },
   "source": [
    "# Reproducibility of a Listening Experiment - Revisited\n",
    "\n",
    "1. \n",
    "2. -> Open Methodology\n",
    "3. -> Open Data, Open Source\n",
    "4. -> Open Data\n",
    "5. -> Open Data, Open Source, Open Methodology\n",
    "6. -> Open Data, Open Access\n",
    "7. -> Open Peer Review\n",
    "8. -> Open Access\n",
    "9. -> Open Access"
   ]
  },
  {
   "cell_type": "markdown",
   "metadata": {
    "slideshow": {
     "slide_type": "slide"
    }
   },
   "source": [
    "# Incentives and Barriers\n",
    "\n",
    "### Selected Results from a Survey of the Machine Learning Community\n",
    "\n",
    "**Barriers (Data / Code)**\n",
    "* time to document and clean up (54% / 77%)\n",
    "* dealing with questions from users (34% / 52%)\n",
    "* not receiving attribution (44% / 42%)\n",
    "* possibility of patents (-- / 40%)\n",
    "* legal barriers (e.g. copyright) (34% / 41%)\n",
    "\n",
    "**Incentives (Data / Code)**\n",
    "* encourage scientific advancement (81% / 91%)\n",
    "* encourage sharing in others (90% / 79%)\n",
    "* be a good community member (86% / 79%)\n",
    "* set a standard in the field (82% / 76%)\n",
    "* improve the calibre of research (85% / 74%)\n",
    "\n",
    "Results from [Stodden, 2010], N=134"
   ]
  },
  {
   "cell_type": "markdown",
   "metadata": {
    "slideshow": {
     "slide_type": "slide"
    }
   },
   "source": [
    "# Management of Research Data\n",
    "\n",
    "* a systematic management of research data is a prerequisite for open and reproducible science\n",
    "* becoming mandatory in funding schemes (DFG, H2020, NSF, ...)\n",
    "\n",
    "**Best Practices** [DFG, HRK, Stodden, H2020]\n",
    "* develop a comprehensive data management plan\n",
    "* use workflow tracking in the research process\n",
    "* make data findable, accessible, interoperable and reusable (FAIR)\n",
    "* apply open licensing models\n",
    "* offer training and qualification"
   ]
  },
  {
   "cell_type": "markdown",
   "metadata": {
    "slideshow": {
     "slide_type": "slide"
    }
   },
   "source": [
    "# Services for Open Science\n",
    "\n",
    "Generic repositories including version tracking\n",
    "* GitHub\n",
    "* Bitbucket\n",
    "\n",
    "Repositories for Research Data\n",
    "* Zenodo\n",
    "* Research Compendia\n",
    "* Reproducible Research\n",
    "* ResearchGate\n",
    "\n",
    "Virtual Research Environments\n",
    "* Open Science Framework\n",
    "\n",
    "Journals\n",
    "* Journal of Open Research Software"
   ]
  },
  {
   "cell_type": "markdown",
   "metadata": {
    "slideshow": {
     "slide_type": "slide"
    }
   },
   "source": [
    "# Copyright and Licenses\n",
    "\n",
    "* unclear situation when publishing content without explicit license\n",
    "* license should be as open as possible in order to promote re-use\n",
    "* legal implications are complex and hard to oversee\n",
    "\n",
    "**Available Licensing Frameworks**\n",
    "* Software: GNU Public License, BSD, MIT, ...\n",
    "* Content: Creative Commons, ...\n",
    "\n",
    "**Recommendations**\n",
    "* Reproducible Research Standard (RRS) [Stodden, 2009]\n",
    "* ..."
   ]
  },
  {
   "cell_type": "markdown",
   "metadata": {
    "slideshow": {
     "slide_type": "slide"
    }
   },
   "source": [
    "# Personal Experience\n",
    "\n",
    "* public release of the SoundScape Renderer (SSR) in 2010\n",
    "* various toolboxes, datasets, open educational resources ($\\rightarrow$ https://github.com/spatialaudio)\n",
    "* Open Science in Two!Ears\n",
    "* internal data management: Redmine, svn, git\n",
    "* public releases: github, zenodo, wordpress\n",
    "\n",
    "**Benefits**\n",
    "* documentation/clean up/discussions for public release\n",
    "* bug reports\n",
    "* positive community feedback\n",
    "* potentially more citations []\n",
    "\n",
    "**Challenges**\n",
    "* initial effort (training, ...)\n",
    "* missing versioning tool/platform for data bases"
   ]
  },
  {
   "cell_type": "markdown",
   "metadata": {
    "slideshow": {
     "slide_type": "slide"
    }
   },
   "source": [
    "# Conclusions\n",
    "\n",
    "* reproducibility of results is essential for the scientific method\n",
    "* Open Science by itself does not ensure the ease of reproducibility\n",
    "* scientific innovation vs. evaluation measures\n",
    "* global trend towards sharing\n",
    "* data repository for acoustics/audio $\\rightarrow$ talk by Stefan Weinzierl"
   ]
  },
  {
   "cell_type": "markdown",
   "metadata": {
    "slideshow": {
     "slide_type": "slide"
    }
   },
   "source": [
    "# References\n",
    "\n",
    "* [Stodden, 2009] Vitoria Stodden, The Legal Framework for Reproducible Scientific Research, Computing in Science & Engineering, January/February 2009.\n",
    "* [Stodden, 2014] Victoria Stodden, Resolving Reproducibility in Computational Science: Tools, Policy, and Culture, 2014.\n",
    "* [Donoho, 2009] David Donoho, Arian Maleki, Inam Rahman, Morteza Shahram, Victoria Stodden, 15 Years of Reproducible Research in Computational Harmonic Analysis, Computing in Science and Engineering, 11(1), 2009."
   ]
  }
 ],
 "metadata": {
  "celltoolbar": "Slideshow",
  "kernelspec": {
   "display_name": "Python 3",
   "language": "python",
   "name": "python3"
  },
  "language_info": {
   "codemirror_mode": {
    "name": "ipython",
    "version": 3
   },
   "file_extension": ".py",
   "mimetype": "text/x-python",
   "name": "python",
   "nbconvert_exporter": "python",
   "pygments_lexer": "ipython3",
   "version": "3.5.2"
  }
 },
 "nbformat": 4,
 "nbformat_minor": 1
}
